{
 "cells": [
  {
   "cell_type": "markdown",
   "metadata": {},
   "source": [
    "Peter Meleney  \n",
    "DATA 512  \n",
    "Assignment A2  \n",
    "10/17/19"
   ]
  },
  {
   "cell_type": "markdown",
   "metadata": {},
   "source": [
    "## Assignment A2: Bias in Data"
   ]
  },
  {
   "cell_type": "markdown",
   "metadata": {},
   "source": [
    "### Objective of Notebook"
   ]
  },
  {
   "cell_type": "markdown",
   "metadata": {},
   "source": [
    "The objective of this notebook is to satisfy the requirements of assignment A2 for DATA 512 in Autum quarter of 2019, part of the University of Washington Master's of Science in Data Science (MSDS) program.  "
   ]
  },
  {
   "cell_type": "markdown",
   "metadata": {},
   "source": [
    "### Objective of Assignment "
   ]
  },
  {
   "cell_type": "markdown",
   "metadata": {},
   "source": [
    "The stated objective of this assignment \"is to explore the concept of bias through data on Wikipedia articles.\" [1]  I will analyze the coverage of politicians on Wikipedia and how the quality of coverage varies between countries and regions.  I will also write a reflection, focusing on how my understanding of bias in data improved through the completion of this project.  "
   ]
  },
  {
   "cell_type": "markdown",
   "metadata": {},
   "source": [
    "### Data Provenance"
   ]
  },
  {
   "cell_type": "markdown",
   "metadata": {},
   "source": [
    "The Wikidpedia politicians by country dataset is hosted on Figshare: https://figshare.com/articles/Untitled_Item/5513449, accessed October 13, 2019.  \n",
    "I downloaded the population data from a file hosed on Canvas (A2: Bias in data/WPDS 2018 data.csv): https://canvas.uw.edu/courses/1319253/files/, accessed October 13, 2019.  These data reflect data drawn from the world population datasheet for 2018: https://www.prb.org/international/indicator/population/table/.  The ratings of various articles was recorded through the ORES API discussed in the relevant section."
   ]
  },
  {
   "cell_type": "markdown",
   "metadata": {},
   "source": [
    "### Imports"
   ]
  },
  {
   "cell_type": "code",
   "execution_count": 566,
   "metadata": {},
   "outputs": [],
   "source": [
    "import numpy as np\n",
    "import pandas as pd\n",
    "import matplotlib.pyplot as plt\n",
    "import os\n",
    "import re\n",
    "import time\n",
    "\n",
    "# from ores import api\n",
    "\n",
    "import requests\n",
    "import json\n",
    "\n",
    "%matplotlib inline"
   ]
  },
  {
   "cell_type": "markdown",
   "metadata": {},
   "source": [
    "### Issues with ORES"
   ]
  },
  {
   "cell_type": "markdown",
   "metadata": {},
   "source": [
    "I ran into an issue installing ORES, the error indicated that:  \n",
    "\n",
    "```Command \"python setup.py egg_info\" failed with error code 1```\n",
    "\n",
    "This was preceeded by an indication that the \"'enchant' C library was not found.\":\n",
    "\n",
    "```ImportError: The 'enchant' C library was not found. Please install it via your OS package manager, or use a pre-built binary wheel from PyPI.```\n",
    "\n",
    "Rather than delve into solving this issue, which I'm sure is tractable, but would take considerable time.  I chose to follow **Option 2** in the instructions, I will use the REST API endpoint to score the quality of the applicable pages."
   ]
  },
  {
   "cell_type": "markdown",
   "metadata": {},
   "source": [
    "## Make Directories to hold Raw and Clean Data"
   ]
  },
  {
   "cell_type": "code",
   "execution_count": 567,
   "metadata": {},
   "outputs": [],
   "source": [
    "#Make appropriate data, raw_data, and clean_data dirs in place.\n",
    "\n",
    "if not os.path.exists(\"data/\"):\n",
    "    os.mkdir('data/')\n",
    "    os.mkdir(\"data/raw_data\")\n",
    "    os.mkdir(\"data/clean_data\")\n",
    "elif not os.path.exists(\"data/raw_data\"):\n",
    "    os.mkdir('data/raw_data')\n",
    "else:\n",
    "    pass\n",
    "\n",
    "if not os.path.exists(\"data/clean_data\"):\n",
    "    os.mkdir('data/clean_data')\n",
    "else:\n",
    "    pass"
   ]
  },
  {
   "cell_type": "markdown",
   "metadata": {},
   "source": [
    "### import raw data"
   ]
  },
  {
   "cell_type": "code",
   "execution_count": 568,
   "metadata": {},
   "outputs": [],
   "source": [
    "pop_df = pd.read_csv('data/raw_data/WPDS_2018_data.csv')\n",
    "wikipedia_df = pd.read_csv('data/raw_data/page_data.csv')"
   ]
  },
  {
   "cell_type": "markdown",
   "metadata": {},
   "source": [
    "### Brief exploration of raw data tables"
   ]
  },
  {
   "cell_type": "markdown",
   "metadata": {},
   "source": [
    "#### Population dataframe"
   ]
  },
  {
   "cell_type": "code",
   "execution_count": 569,
   "metadata": {
    "scrolled": false
   },
   "outputs": [
    {
     "name": "stdout",
     "output_type": "stream",
     "text": [
      "<class 'pandas.core.frame.DataFrame'>\n",
      "RangeIndex: 207 entries, 0 to 206\n",
      "Data columns (total 2 columns):\n",
      "Geography                         207 non-null object\n",
      "Population mid-2018 (millions)    207 non-null object\n",
      "dtypes: object(2)\n",
      "memory usage: 3.3+ KB\n"
     ]
    }
   ],
   "source": [
    "pop_df.info()"
   ]
  },
  {
   "cell_type": "code",
   "execution_count": 570,
   "metadata": {},
   "outputs": [
    {
     "data": {
      "text/html": [
       "<div>\n",
       "<style scoped>\n",
       "    .dataframe tbody tr th:only-of-type {\n",
       "        vertical-align: middle;\n",
       "    }\n",
       "\n",
       "    .dataframe tbody tr th {\n",
       "        vertical-align: top;\n",
       "    }\n",
       "\n",
       "    .dataframe thead th {\n",
       "        text-align: right;\n",
       "    }\n",
       "</style>\n",
       "<table border=\"1\" class=\"dataframe\">\n",
       "  <thead>\n",
       "    <tr style=\"text-align: right;\">\n",
       "      <th></th>\n",
       "      <th>Geography</th>\n",
       "      <th>Population mid-2018 (millions)</th>\n",
       "    </tr>\n",
       "  </thead>\n",
       "  <tbody>\n",
       "    <tr>\n",
       "      <th>0</th>\n",
       "      <td>AFRICA</td>\n",
       "      <td>1,284</td>\n",
       "    </tr>\n",
       "    <tr>\n",
       "      <th>1</th>\n",
       "      <td>Algeria</td>\n",
       "      <td>42.7</td>\n",
       "    </tr>\n",
       "    <tr>\n",
       "      <th>2</th>\n",
       "      <td>Egypt</td>\n",
       "      <td>97</td>\n",
       "    </tr>\n",
       "    <tr>\n",
       "      <th>3</th>\n",
       "      <td>Libya</td>\n",
       "      <td>6.5</td>\n",
       "    </tr>\n",
       "    <tr>\n",
       "      <th>4</th>\n",
       "      <td>Morocco</td>\n",
       "      <td>35.2</td>\n",
       "    </tr>\n",
       "  </tbody>\n",
       "</table>\n",
       "</div>"
      ],
      "text/plain": [
       "  Geography Population mid-2018 (millions)\n",
       "0    AFRICA                          1,284\n",
       "1   Algeria                           42.7\n",
       "2     Egypt                             97\n",
       "3     Libya                            6.5\n",
       "4   Morocco                           35.2"
      ]
     },
     "execution_count": 570,
     "metadata": {},
     "output_type": "execute_result"
    }
   ],
   "source": [
    "pop_df.head()"
   ]
  },
  {
   "cell_type": "markdown",
   "metadata": {},
   "source": [
    "#### Wikipedia dataframe"
   ]
  },
  {
   "cell_type": "code",
   "execution_count": 571,
   "metadata": {},
   "outputs": [
    {
     "name": "stdout",
     "output_type": "stream",
     "text": [
      "<class 'pandas.core.frame.DataFrame'>\n",
      "RangeIndex: 47197 entries, 0 to 47196\n",
      "Data columns (total 3 columns):\n",
      "page       47197 non-null object\n",
      "country    47197 non-null object\n",
      "rev_id     47197 non-null int64\n",
      "dtypes: int64(1), object(2)\n",
      "memory usage: 1.1+ MB\n"
     ]
    }
   ],
   "source": [
    "wikipedia_df.info()"
   ]
  },
  {
   "cell_type": "code",
   "execution_count": 572,
   "metadata": {},
   "outputs": [
    {
     "data": {
      "text/html": [
       "<div>\n",
       "<style scoped>\n",
       "    .dataframe tbody tr th:only-of-type {\n",
       "        vertical-align: middle;\n",
       "    }\n",
       "\n",
       "    .dataframe tbody tr th {\n",
       "        vertical-align: top;\n",
       "    }\n",
       "\n",
       "    .dataframe thead th {\n",
       "        text-align: right;\n",
       "    }\n",
       "</style>\n",
       "<table border=\"1\" class=\"dataframe\">\n",
       "  <thead>\n",
       "    <tr style=\"text-align: right;\">\n",
       "      <th></th>\n",
       "      <th>page</th>\n",
       "      <th>country</th>\n",
       "      <th>rev_id</th>\n",
       "    </tr>\n",
       "  </thead>\n",
       "  <tbody>\n",
       "    <tr>\n",
       "      <th>0</th>\n",
       "      <td>Template:ZambiaProvincialMinisters</td>\n",
       "      <td>Zambia</td>\n",
       "      <td>235107991</td>\n",
       "    </tr>\n",
       "    <tr>\n",
       "      <th>1</th>\n",
       "      <td>Bir I of Kanem</td>\n",
       "      <td>Chad</td>\n",
       "      <td>355319463</td>\n",
       "    </tr>\n",
       "    <tr>\n",
       "      <th>2</th>\n",
       "      <td>Template:Zimbabwe-politician-stub</td>\n",
       "      <td>Zimbabwe</td>\n",
       "      <td>391862046</td>\n",
       "    </tr>\n",
       "    <tr>\n",
       "      <th>3</th>\n",
       "      <td>Template:Uganda-politician-stub</td>\n",
       "      <td>Uganda</td>\n",
       "      <td>391862070</td>\n",
       "    </tr>\n",
       "    <tr>\n",
       "      <th>4</th>\n",
       "      <td>Template:Namibia-politician-stub</td>\n",
       "      <td>Namibia</td>\n",
       "      <td>391862409</td>\n",
       "    </tr>\n",
       "  </tbody>\n",
       "</table>\n",
       "</div>"
      ],
      "text/plain": [
       "                                 page   country     rev_id\n",
       "0  Template:ZambiaProvincialMinisters    Zambia  235107991\n",
       "1                      Bir I of Kanem      Chad  355319463\n",
       "2   Template:Zimbabwe-politician-stub  Zimbabwe  391862046\n",
       "3     Template:Uganda-politician-stub    Uganda  391862070\n",
       "4    Template:Namibia-politician-stub   Namibia  391862409"
      ]
     },
     "execution_count": 572,
     "metadata": {},
     "output_type": "execute_result"
    }
   ],
   "source": [
    "wikipedia_df.head()"
   ]
  },
  {
   "cell_type": "markdown",
   "metadata": {},
   "source": [
    "#### Discussion"
   ]
  },
  {
   "cell_type": "markdown",
   "metadata": {},
   "source": [
    "I will need to clean these tables a bit.  The population dataframe contains regions in all-caps (e.g. AFRICA), these should be moved to a regions dataframe for further analysis, but not maintained in the country population dataframe as the regions will not match any particular country.\n",
    "\n",
    "The wikipedia dataframe contains pages that start with the work \"Template.\"  These pages should not be included in our analysis."
   ]
  },
  {
   "cell_type": "markdown",
   "metadata": {},
   "source": [
    "### Data Cleaning"
   ]
  },
  {
   "cell_type": "markdown",
   "metadata": {},
   "source": [
    "#### Population DataFrame"
   ]
  },
  {
   "cell_type": "markdown",
   "metadata": {},
   "source": [
    "I will remove all the region headings from the population dataframe instead list them as an additional column.  This will come in handy during analysis."
   ]
  },
  {
   "cell_type": "code",
   "execution_count": 573,
   "metadata": {},
   "outputs": [],
   "source": [
    "#First we find all the rows with only uppercase characters.\n",
    "uppercase_finder = re.compile(r\"^([A-Z ':]+$)\", re.M)\n",
    "\n",
    "uppercase_rows = []\n",
    "for i in range(0,pop_df.shape[0]):\n",
    "    uppercase_found = []\n",
    "    uppercase_found = uppercase_finder.findall(pop_df.iloc[i,0])\n",
    "    if uppercase_found:\n",
    "        uppercase_rows.append(i)\n",
    "\n",
    "# create region_df that stores region IDs and total populations\n",
    "region_df = pd.DataFrame([])\n",
    "for j in uppercase_rows:\n",
    "    region_df = pd.concat([region_df, pd.DataFrame(pop_df.iloc[j]).T], sort=False)\n",
    "\n",
    "# Append regional geography to population df\n",
    "region_map = uppercase_rows.copy()\n",
    "region_map.append(pop_df.shape[0])\n",
    "list_regions = []\n",
    "for i in range(0,len(region_map)-1):\n",
    "    num_regions = region_map[i+1] - region_map[i]\n",
    "    list_regions.append(num_regions*[pop_df[['Geography', 'Population mid-2018 (millions)']].iloc[region_map[i]]])\n",
    "\n",
    "l_regions = pd.DataFrame([item for sublist in list_regions for item in sublist])\n",
    "l_regions.index = pop_df.index\n",
    "\n",
    "pop_df = pd.concat([l_regions, pop_df], axis = 1)"
   ]
  },
  {
   "cell_type": "code",
   "execution_count": 574,
   "metadata": {},
   "outputs": [
    {
     "data": {
      "text/html": [
       "<div>\n",
       "<style scoped>\n",
       "    .dataframe tbody tr th:only-of-type {\n",
       "        vertical-align: middle;\n",
       "    }\n",
       "\n",
       "    .dataframe tbody tr th {\n",
       "        vertical-align: top;\n",
       "    }\n",
       "\n",
       "    .dataframe thead th {\n",
       "        text-align: right;\n",
       "    }\n",
       "</style>\n",
       "<table border=\"1\" class=\"dataframe\">\n",
       "  <thead>\n",
       "    <tr style=\"text-align: right;\">\n",
       "      <th></th>\n",
       "      <th>Region</th>\n",
       "      <th>Region Population mid-2018 (millions)</th>\n",
       "      <th>Country</th>\n",
       "      <th>Population mid-2018 (millions)</th>\n",
       "    </tr>\n",
       "  </thead>\n",
       "  <tbody>\n",
       "    <tr>\n",
       "      <th>50</th>\n",
       "      <td>AFRICA</td>\n",
       "      <td>1,284</td>\n",
       "      <td>Sao Tome and Principe</td>\n",
       "      <td>0.2</td>\n",
       "    </tr>\n",
       "    <tr>\n",
       "      <th>28</th>\n",
       "      <td>AFRICA</td>\n",
       "      <td>1,284</td>\n",
       "      <td>Ethiopia</td>\n",
       "      <td>107.5</td>\n",
       "    </tr>\n",
       "    <tr>\n",
       "      <th>24</th>\n",
       "      <td>AFRICA</td>\n",
       "      <td>1,284</td>\n",
       "      <td>Burundi</td>\n",
       "      <td>11.8</td>\n",
       "    </tr>\n",
       "    <tr>\n",
       "      <th>22</th>\n",
       "      <td>AFRICA</td>\n",
       "      <td>1,284</td>\n",
       "      <td>Sierra Leone</td>\n",
       "      <td>7.7</td>\n",
       "    </tr>\n",
       "    <tr>\n",
       "      <th>203</th>\n",
       "      <td>OCEANIA</td>\n",
       "      <td>41</td>\n",
       "      <td>Solomon Islands</td>\n",
       "      <td>0.7</td>\n",
       "    </tr>\n",
       "    <tr>\n",
       "      <th>122</th>\n",
       "      <td>ASIA</td>\n",
       "      <td>4,536</td>\n",
       "      <td>Iran</td>\n",
       "      <td>81.6</td>\n",
       "    </tr>\n",
       "    <tr>\n",
       "      <th>96</th>\n",
       "      <td>ASIA</td>\n",
       "      <td>4,536</td>\n",
       "      <td>Armenia</td>\n",
       "      <td>3</td>\n",
       "    </tr>\n",
       "    <tr>\n",
       "      <th>80</th>\n",
       "      <td>LATIN AMERICA AND THE CARIBBEAN</td>\n",
       "      <td>649</td>\n",
       "      <td>Saint Lucia</td>\n",
       "      <td>0.2</td>\n",
       "    </tr>\n",
       "    <tr>\n",
       "      <th>163</th>\n",
       "      <td>EUROPE</td>\n",
       "      <td>746</td>\n",
       "      <td>Switzerland</td>\n",
       "      <td>8.5</td>\n",
       "    </tr>\n",
       "    <tr>\n",
       "      <th>133</th>\n",
       "      <td>ASIA</td>\n",
       "      <td>4,536</td>\n",
       "      <td>Philippines</td>\n",
       "      <td>107</td>\n",
       "    </tr>\n",
       "  </tbody>\n",
       "</table>\n",
       "</div>"
      ],
      "text/plain": [
       "                              Region Region Population mid-2018 (millions)  \\\n",
       "50                            AFRICA                                 1,284   \n",
       "28                            AFRICA                                 1,284   \n",
       "24                            AFRICA                                 1,284   \n",
       "22                            AFRICA                                 1,284   \n",
       "203                          OCEANIA                                    41   \n",
       "122                             ASIA                                 4,536   \n",
       "96                              ASIA                                 4,536   \n",
       "80   LATIN AMERICA AND THE CARIBBEAN                                   649   \n",
       "163                           EUROPE                                   746   \n",
       "133                             ASIA                                 4,536   \n",
       "\n",
       "                   Country Population mid-2018 (millions)  \n",
       "50   Sao Tome and Principe                            0.2  \n",
       "28                Ethiopia                          107.5  \n",
       "24                 Burundi                           11.8  \n",
       "22            Sierra Leone                            7.7  \n",
       "203        Solomon Islands                            0.7  \n",
       "122                   Iran                           81.6  \n",
       "96                 Armenia                              3  \n",
       "80             Saint Lucia                            0.2  \n",
       "163            Switzerland                            8.5  \n",
       "133            Philippines                            107  "
      ]
     },
     "execution_count": 574,
     "metadata": {},
     "output_type": "execute_result"
    }
   ],
   "source": [
    "# Drop uppercase_rows from the pop_df dataframe\n",
    "for row in uppercase_rows:\n",
    "    pop_df.drop(row, axis = 0, inplace=True)\n",
    "\n",
    "pop_df.columns = ['Region', 'Region Population mid-2018 (millions)', 'Country', 'Population mid-2018 (millions)']\n",
    "# Check that the heading AFRICA was removed from the top of the dataframe\n",
    "pop_df.sample(10)"
   ]
  },
  {
   "cell_type": "markdown",
   "metadata": {},
   "source": [
    "#### Wikipedia DataFrame"
   ]
  },
  {
   "cell_type": "markdown",
   "metadata": {},
   "source": [
    "I will remove all the instances of \"Template\" from the "
   ]
  },
  {
   "cell_type": "code",
   "execution_count": 575,
   "metadata": {},
   "outputs": [
    {
     "data": {
      "text/html": [
       "<div>\n",
       "<style scoped>\n",
       "    .dataframe tbody tr th:only-of-type {\n",
       "        vertical-align: middle;\n",
       "    }\n",
       "\n",
       "    .dataframe tbody tr th {\n",
       "        vertical-align: top;\n",
       "    }\n",
       "\n",
       "    .dataframe thead th {\n",
       "        text-align: right;\n",
       "    }\n",
       "</style>\n",
       "<table border=\"1\" class=\"dataframe\">\n",
       "  <thead>\n",
       "    <tr style=\"text-align: right;\">\n",
       "      <th></th>\n",
       "      <th>page</th>\n",
       "      <th>country</th>\n",
       "      <th>rev_id</th>\n",
       "    </tr>\n",
       "  </thead>\n",
       "  <tbody>\n",
       "    <tr>\n",
       "      <th>0</th>\n",
       "      <td>Template:ZambiaProvincialMinisters</td>\n",
       "      <td>Zambia</td>\n",
       "      <td>235107991</td>\n",
       "    </tr>\n",
       "    <tr>\n",
       "      <th>1</th>\n",
       "      <td>Bir I of Kanem</td>\n",
       "      <td>Chad</td>\n",
       "      <td>355319463</td>\n",
       "    </tr>\n",
       "    <tr>\n",
       "      <th>2</th>\n",
       "      <td>Template:Zimbabwe-politician-stub</td>\n",
       "      <td>Zimbabwe</td>\n",
       "      <td>391862046</td>\n",
       "    </tr>\n",
       "    <tr>\n",
       "      <th>3</th>\n",
       "      <td>Template:Uganda-politician-stub</td>\n",
       "      <td>Uganda</td>\n",
       "      <td>391862070</td>\n",
       "    </tr>\n",
       "    <tr>\n",
       "      <th>4</th>\n",
       "      <td>Template:Namibia-politician-stub</td>\n",
       "      <td>Namibia</td>\n",
       "      <td>391862409</td>\n",
       "    </tr>\n",
       "  </tbody>\n",
       "</table>\n",
       "</div>"
      ],
      "text/plain": [
       "                                 page   country     rev_id\n",
       "0  Template:ZambiaProvincialMinisters    Zambia  235107991\n",
       "1                      Bir I of Kanem      Chad  355319463\n",
       "2   Template:Zimbabwe-politician-stub  Zimbabwe  391862046\n",
       "3     Template:Uganda-politician-stub    Uganda  391862070\n",
       "4    Template:Namibia-politician-stub   Namibia  391862409"
      ]
     },
     "execution_count": 575,
     "metadata": {},
     "output_type": "execute_result"
    }
   ],
   "source": [
    "wikipedia_df.head()"
   ]
  },
  {
   "cell_type": "code",
   "execution_count": 576,
   "metadata": {},
   "outputs": [
    {
     "name": "stdout",
     "output_type": "stream",
     "text": [
      "<class 'pandas.core.frame.DataFrame'>\n",
      "Int64Index: 46701 entries, 1 to 47196\n",
      "Data columns (total 3 columns):\n",
      "page       46701 non-null object\n",
      "country    46701 non-null object\n",
      "rev_id     46701 non-null int64\n",
      "dtypes: int64(1), object(2)\n",
      "memory usage: 1.4+ MB\n"
     ]
    }
   ],
   "source": [
    "# Collect row numbers in list template_rows\n",
    "template_rows = []\n",
    "for i in range(0,wikipedia_df.shape[0]):\n",
    "    if wikipedia_df.iloc[i]['page'][0:8] == \"Template\":\n",
    "        template_rows.append(i)\n",
    "\n",
    "# Drop template_rows from wikipedia dataframe\n",
    "for row in template_rows:\n",
    "    wikipedia_df.drop(row, axis = 0, inplace=True)\n",
    "    \n",
    "# Print updated info for wikipedia dataframe\n",
    "wikipedia_df.info()"
   ]
  },
  {
   "cell_type": "code",
   "execution_count": 577,
   "metadata": {
    "scrolled": true
   },
   "outputs": [
    {
     "data": {
      "text/html": [
       "<div>\n",
       "<style scoped>\n",
       "    .dataframe tbody tr th:only-of-type {\n",
       "        vertical-align: middle;\n",
       "    }\n",
       "\n",
       "    .dataframe tbody tr th {\n",
       "        vertical-align: top;\n",
       "    }\n",
       "\n",
       "    .dataframe thead th {\n",
       "        text-align: right;\n",
       "    }\n",
       "</style>\n",
       "<table border=\"1\" class=\"dataframe\">\n",
       "  <thead>\n",
       "    <tr style=\"text-align: right;\">\n",
       "      <th></th>\n",
       "      <th>page</th>\n",
       "      <th>country</th>\n",
       "      <th>rev_id</th>\n",
       "    </tr>\n",
       "  </thead>\n",
       "  <tbody>\n",
       "    <tr>\n",
       "      <th>1</th>\n",
       "      <td>Bir I of Kanem</td>\n",
       "      <td>Chad</td>\n",
       "      <td>355319463</td>\n",
       "    </tr>\n",
       "    <tr>\n",
       "      <th>10</th>\n",
       "      <td>Information Minister of the Palestinian Nation...</td>\n",
       "      <td>Palestinian Territory</td>\n",
       "      <td>393276188</td>\n",
       "    </tr>\n",
       "    <tr>\n",
       "      <th>12</th>\n",
       "      <td>Yos Por</td>\n",
       "      <td>Cambodia</td>\n",
       "      <td>393822005</td>\n",
       "    </tr>\n",
       "    <tr>\n",
       "      <th>23</th>\n",
       "      <td>Julius Gregr</td>\n",
       "      <td>Czech Republic</td>\n",
       "      <td>395521877</td>\n",
       "    </tr>\n",
       "    <tr>\n",
       "      <th>24</th>\n",
       "      <td>Edvard Gregr</td>\n",
       "      <td>Czech Republic</td>\n",
       "      <td>395526568</td>\n",
       "    </tr>\n",
       "  </tbody>\n",
       "</table>\n",
       "</div>"
      ],
      "text/plain": [
       "                                                 page                country  \\\n",
       "1                                      Bir I of Kanem                   Chad   \n",
       "10  Information Minister of the Palestinian Nation...  Palestinian Territory   \n",
       "12                                            Yos Por               Cambodia   \n",
       "23                                       Julius Gregr         Czech Republic   \n",
       "24                                       Edvard Gregr         Czech Republic   \n",
       "\n",
       "       rev_id  \n",
       "1   355319463  \n",
       "10  393276188  \n",
       "12  393822005  \n",
       "23  395521877  \n",
       "24  395526568  "
      ]
     },
     "execution_count": 577,
     "metadata": {},
     "output_type": "execute_result"
    }
   ],
   "source": [
    "wikipedia_df.head()"
   ]
  },
  {
   "cell_type": "markdown",
   "metadata": {},
   "source": [
    "#### Discussion"
   ]
  },
  {
   "cell_type": "markdown",
   "metadata": {},
   "source": [
    "Cleaning the wikipedia dataframe resulted in the removal of 496 rows from the dataframe (47197-46701).  These rows were not saved because they are not applicable to our discussion here.  "
   ]
  },
  {
   "cell_type": "markdown",
   "metadata": {},
   "source": [
    "## Save Cleaned Data to clean_data Folder"
   ]
  },
  {
   "cell_type": "code",
   "execution_count": 578,
   "metadata": {},
   "outputs": [],
   "source": [
    "pop_df.to_csv('data/clean_data/population.csv')\n",
    "region_df.to_csv('data/clean_data/region.csv')\n",
    "wikipedia_df.to_csv('data/clean_data/wikipedia.csv')"
   ]
  },
  {
   "cell_type": "markdown",
   "metadata": {},
   "source": [
    "## Ores REST API"
   ]
  },
  {
   "cell_type": "markdown",
   "metadata": {},
   "source": [
    "### Split wikipedia_df rev_id Column to avoid API "
   ]
  },
  {
   "cell_type": "markdown",
   "metadata": {},
   "source": [
    "As per the notes in [2] I will split the rev_id column into 100-element long lists to avoid hitting ORES API call limits."
   ]
  },
  {
   "cell_type": "code",
   "execution_count": 580,
   "metadata": {},
   "outputs": [
    {
     "data": {
      "text/plain": [
       "(467, 1)"
      ]
     },
     "execution_count": 580,
     "metadata": {},
     "output_type": "execute_result"
    }
   ],
   "source": [
    "wikipedia_df.shape[0]//100, wikipedia_df.shape[0]%100 "
   ]
  },
  {
   "cell_type": "markdown",
   "metadata": {},
   "source": [
    "We will expect a list of lists of length 468, and there to be one element in the final list.  The following code creates a list of lists, each 100 elements long to pass to the get_ores_data function defined in the next cell."
   ]
  },
  {
   "cell_type": "code",
   "execution_count": 582,
   "metadata": {},
   "outputs": [],
   "source": [
    "list_of_rev_id_lists = []\n",
    "\n",
    "#This code creates a list of lists which each contain 100\n",
    "for i in range(wikipedia_df.shape[0]//100+wikipedia_df.shape[0]%100):\n",
    "    rev_id_list = []\n",
    "    for rev_id in wikipedia_df['rev_id'].iloc[100*i:100*(i+1)]:\n",
    "        rev_id_list.append(rev_id)\n",
    "    list_of_rev_id_lists.append(rev_id_list)"
   ]
  },
  {
   "cell_type": "code",
   "execution_count": 583,
   "metadata": {},
   "outputs": [],
   "source": [
    "# The code in this cell is modified from https://github.com/jtmorgan/data-512-a2/blob/master/NEW_hcds-a2-bias_demo.ipynb \n",
    "# see full citation below.[2]\n",
    "\n",
    "headers = {'User-Agent' : 'https://github.com/your_github_username', 'From' : 'pmeleney@uw.edu'} \n",
    "\n",
    "def get_ores_data(revision_ids, headers):\n",
    "    \n",
    "    # Define the endpoint\n",
    "    endpoint = 'https://ores.wikimedia.org/v3/scores/{project}/?models={model}&revids={revids}'\n",
    "    \n",
    "    # Specify the parameters - smushing all the revision IDs together separated by | marks.\n",
    "    # Yes, 'smush' is a technical term, trust me I'm a scientist.\n",
    "    # What do you mean \"but people trusting scientists regularly goes horribly wrong\" who taught you tha- oh.  \n",
    "    params = {'project' : 'enwiki',\n",
    "              'model'   : 'wp10',\n",
    "              'revids'  : '|'.join(str(x) for x in revision_ids)\n",
    "              }\n",
    "    api_call = requests.get(endpoint.format(**params))\n",
    "    response = api_call.json()\n",
    "    return json.dumps(response, indent=4, sort_keys=True)"
   ]
  },
  {
   "cell_type": "markdown",
   "metadata": {},
   "source": [
    "### Article Quality Codes from ORES"
   ]
  },
  {
   "cell_type": "code",
   "execution_count": 584,
   "metadata": {
    "scrolled": true
   },
   "outputs": [
    {
     "data": {
      "text/html": [
       "<div>\n",
       "<style scoped>\n",
       "    .dataframe tbody tr th:only-of-type {\n",
       "        vertical-align: middle;\n",
       "    }\n",
       "\n",
       "    .dataframe tbody tr th {\n",
       "        vertical-align: top;\n",
       "    }\n",
       "\n",
       "    .dataframe thead th {\n",
       "        text-align: right;\n",
       "    }\n",
       "</style>\n",
       "<table border=\"1\" class=\"dataframe\">\n",
       "  <thead>\n",
       "    <tr style=\"text-align: right;\">\n",
       "      <th></th>\n",
       "      <th>code</th>\n",
       "      <th>description</th>\n",
       "    </tr>\n",
       "  </thead>\n",
       "  <tbody>\n",
       "    <tr>\n",
       "      <th>0</th>\n",
       "      <td>FA</td>\n",
       "      <td>Featured Article</td>\n",
       "    </tr>\n",
       "    <tr>\n",
       "      <th>1</th>\n",
       "      <td>GA</td>\n",
       "      <td>Good Article</td>\n",
       "    </tr>\n",
       "    <tr>\n",
       "      <th>2</th>\n",
       "      <td>B</td>\n",
       "      <td>B-Class Article</td>\n",
       "    </tr>\n",
       "    <tr>\n",
       "      <th>3</th>\n",
       "      <td>C</td>\n",
       "      <td>C-Class Article</td>\n",
       "    </tr>\n",
       "    <tr>\n",
       "      <th>4</th>\n",
       "      <td>Start</td>\n",
       "      <td>Start-Class Article</td>\n",
       "    </tr>\n",
       "    <tr>\n",
       "      <th>5</th>\n",
       "      <td>Stub</td>\n",
       "      <td>Stub-Class Article</td>\n",
       "    </tr>\n",
       "  </tbody>\n",
       "</table>\n",
       "</div>"
      ],
      "text/plain": [
       "    code          description\n",
       "0     FA     Featured Article\n",
       "1     GA         Good Article\n",
       "2      B      B-Class Article\n",
       "3      C      C-Class Article\n",
       "4  Start  Start-Class Article\n",
       "5   Stub   Stub-Class Article"
      ]
     },
     "execution_count": 584,
     "metadata": {},
     "output_type": "execute_result"
    }
   ],
   "source": [
    "# Article quality codes and their dexscriptions.\n",
    "\n",
    "pd.DataFrame([['FA', 'GA', 'B', 'C', 'Start', 'Stub'], \n",
    "              ['Featured Article', 'Good Article', 'B-Class Article', 'C-Class Article', 'Start-Class Article', 'Stub-Class Article']],\n",
    "            index = ['code', 'description']).T"
   ]
  },
  {
   "cell_type": "markdown",
   "metadata": {},
   "source": [
    "## WARNING: The code cell below takes a long time to run"
   ]
  },
  {
   "cell_type": "markdown",
   "metadata": {},
   "source": [
    "This next cell takes quite some time to run (I experienced between 10 minutes and 171 minutes depending on the conditions of the API).  It connects to the ORES API, returns a 2-column dataframe containing the rev_id of a wikipedia article and the ORES predicted article class, and saves the resulting dataframe to a csv file in the raw_data folder.  The code ignores rev_ids that return an error code.  We will recover codes that errored out by comparing a flattened list_of_rev_id_lists with the first column of the dataframe."
   ]
  },
  {
   "cell_type": "code",
   "execution_count": 585,
   "metadata": {
    "scrolled": true
   },
   "outputs": [
    {
     "name": "stdout",
     "output_type": "stream",
     "text": [
      "Completed the 1 th list of 100\n",
      "Completed the 2 th list of 100\n",
      "Completed the 3 th list of 100\n",
      "Completed the 4 th list of 100\n",
      "Completed the 5 th list of 100\n",
      "Completed the 6 th list of 100\n",
      "Completed the 7 th list of 100\n",
      "Completed the 8 th list of 100\n",
      "Completed the 9 th list of 100\n",
      "Completed the 10 th list of 100\n",
      "Completed the 11 th list of 100\n",
      "Completed the 12 th list of 100\n",
      "Completed the 13 th list of 100\n",
      "Completed the 14 th list of 100\n",
      "Completed the 15 th list of 100\n",
      "Completed the 16 th list of 100\n",
      "Completed the 17 th list of 100\n",
      "Completed the 18 th list of 100\n",
      "Completed the 19 th list of 100\n",
      "Completed the 20 th list of 100\n",
      "Completed the 21 th list of 100\n",
      "Completed the 22 th list of 100\n",
      "Completed the 23 th list of 100\n",
      "Completed the 24 th list of 100\n",
      "Completed the 25 th list of 100\n",
      "Completed the 26 th list of 100\n",
      "Completed the 27 th list of 100\n",
      "Completed the 28 th list of 100\n",
      "Completed the 29 th list of 100\n",
      "Completed the 30 th list of 100\n",
      "Completed the 31 th list of 100\n",
      "Completed the 32 th list of 100\n",
      "Completed the 33 th list of 100\n",
      "Completed the 34 th list of 100\n",
      "Completed the 35 th list of 100\n",
      "Completed the 36 th list of 100\n",
      "Completed the 37 th list of 100\n",
      "Completed the 38 th list of 100\n",
      "Completed the 39 th list of 100\n",
      "Completed the 40 th list of 100\n",
      "Completed the 41 th list of 100\n",
      "Completed the 42 th list of 100\n",
      "Completed the 43 th list of 100\n",
      "Completed the 44 th list of 100\n",
      "Completed the 45 th list of 100\n",
      "Completed the 46 th list of 100\n",
      "Completed the 47 th list of 100\n",
      "Completed the 48 th list of 100\n",
      "Completed the 49 th list of 100\n",
      "Completed the 50 th list of 100\n",
      "Completed the 51 th list of 100\n",
      "Completed the 52 th list of 100\n",
      "Completed the 53 th list of 100\n",
      "Completed the 54 th list of 100\n",
      "Completed the 55 th list of 100\n",
      "Completed the 56 th list of 100\n",
      "Completed the 57 th list of 100\n",
      "Completed the 58 th list of 100\n",
      "Completed the 59 th list of 100\n",
      "Completed the 60 th list of 100\n",
      "Completed the 61 th list of 100\n",
      "Completed the 62 th list of 100\n",
      "Completed the 63 th list of 100\n",
      "Completed the 64 th list of 100\n",
      "Completed the 65 th list of 100\n",
      "Completed the 66 th list of 100\n",
      "Completed the 67 th list of 100\n",
      "Completed the 68 th list of 100\n",
      "Completed the 69 th list of 100\n",
      "Completed the 70 th list of 100\n",
      "Completed the 71 th list of 100\n",
      "Completed the 72 th list of 100\n",
      "Completed the 73 th list of 100\n",
      "Completed the 74 th list of 100\n",
      "Completed the 75 th list of 100\n",
      "Completed the 76 th list of 100\n",
      "Completed the 77 th list of 100\n",
      "Completed the 78 th list of 100\n",
      "Completed the 79 th list of 100\n",
      "Completed the 80 th list of 100\n",
      "Completed the 81 th list of 100\n",
      "Completed the 82 th list of 100\n",
      "Completed the 83 th list of 100\n",
      "Completed the 84 th list of 100\n",
      "Completed the 85 th list of 100\n",
      "Completed the 86 th list of 100\n",
      "Completed the 87 th list of 100\n",
      "Completed the 88 th list of 100\n",
      "Completed the 89 th list of 100\n",
      "Completed the 90 th list of 100\n",
      "Completed the 91 th list of 100\n",
      "Completed the 92 th list of 100\n",
      "Completed the 93 th list of 100\n",
      "Completed the 94 th list of 100\n",
      "Completed the 95 th list of 100\n",
      "Completed the 96 th list of 100\n",
      "Completed the 97 th list of 100\n",
      "Completed the 98 th list of 100\n",
      "Completed the 99 th list of 100\n",
      "Completed the 100 th list of 100\n",
      "Completed the 101 th list of 100\n",
      "Completed the 102 th list of 100\n",
      "Completed the 103 th list of 100\n",
      "Completed the 104 th list of 100\n",
      "Completed the 105 th list of 100\n",
      "Completed the 106 th list of 100\n",
      "Completed the 107 th list of 100\n",
      "Completed the 108 th list of 100\n",
      "Completed the 109 th list of 100\n",
      "Completed the 110 th list of 100\n",
      "Completed the 111 th list of 100\n",
      "Completed the 112 th list of 100\n",
      "Completed the 113 th list of 100\n",
      "Completed the 114 th list of 100\n",
      "Completed the 115 th list of 100\n",
      "Completed the 116 th list of 100\n"
     ]
    },
    {
     "ename": "KeyboardInterrupt",
     "evalue": "",
     "output_type": "error",
     "traceback": [
      "\u001b[1;31m---------------------------------------------------------------------------\u001b[0m",
      "\u001b[1;31mKeyboardInterrupt\u001b[0m                         Traceback (most recent call last)",
      "\u001b[1;32m<ipython-input-585-a900470d3574>\u001b[0m in \u001b[0;36m<module>\u001b[1;34m\u001b[0m\n\u001b[0;32m     10\u001b[0m     \u001b[1;32mfor\u001b[0m \u001b[0mrev_id\u001b[0m \u001b[1;32min\u001b[0m \u001b[0mlist_of_rev_ids\u001b[0m\u001b[1;33m:\u001b[0m\u001b[1;33m\u001b[0m\u001b[1;33m\u001b[0m\u001b[0m\n\u001b[0;32m     11\u001b[0m         \u001b[1;32mif\u001b[0m \u001b[0mstr\u001b[0m\u001b[1;33m(\u001b[0m\u001b[0mrev_id\u001b[0m\u001b[1;33m)\u001b[0m \u001b[1;32min\u001b[0m \u001b[0mjson\u001b[0m\u001b[1;33m.\u001b[0m\u001b[0mloads\u001b[0m\u001b[1;33m(\u001b[0m\u001b[0mores_data\u001b[0m\u001b[1;33m)\u001b[0m\u001b[1;33m[\u001b[0m\u001b[1;34m'enwiki'\u001b[0m\u001b[1;33m]\u001b[0m\u001b[1;33m[\u001b[0m\u001b[1;34m'scores'\u001b[0m\u001b[1;33m]\u001b[0m\u001b[1;33m.\u001b[0m\u001b[0mkeys\u001b[0m\u001b[1;33m(\u001b[0m\u001b[1;33m)\u001b[0m \u001b[1;32mand\u001b[0m\u001b[0;31m \u001b[0m\u001b[0;31m\\\u001b[0m\u001b[1;33m\u001b[0m\u001b[1;33m\u001b[0m\u001b[0m\n\u001b[1;32m---> 12\u001b[1;33m         \u001b[1;34m'error'\u001b[0m \u001b[1;32mnot\u001b[0m \u001b[1;32min\u001b[0m \u001b[0mjson\u001b[0m\u001b[1;33m.\u001b[0m\u001b[0mloads\u001b[0m\u001b[1;33m(\u001b[0m\u001b[0mores_data\u001b[0m\u001b[1;33m)\u001b[0m\u001b[1;33m[\u001b[0m\u001b[1;34m'enwiki'\u001b[0m\u001b[1;33m]\u001b[0m\u001b[1;33m[\u001b[0m\u001b[1;34m'scores'\u001b[0m\u001b[1;33m]\u001b[0m\u001b[1;33m[\u001b[0m\u001b[0mstr\u001b[0m\u001b[1;33m(\u001b[0m\u001b[0mrev_id\u001b[0m\u001b[1;33m)\u001b[0m\u001b[1;33m]\u001b[0m\u001b[1;33m[\u001b[0m\u001b[1;34m'wp10'\u001b[0m\u001b[1;33m]\u001b[0m\u001b[1;33m.\u001b[0m\u001b[0mkeys\u001b[0m\u001b[1;33m(\u001b[0m\u001b[1;33m)\u001b[0m\u001b[1;33m:\u001b[0m\u001b[1;33m\u001b[0m\u001b[1;33m\u001b[0m\u001b[0m\n\u001b[0m\u001b[0;32m     13\u001b[0m             \u001b[0mreturned_score_ids\u001b[0m\u001b[1;33m.\u001b[0m\u001b[0mappend\u001b[0m\u001b[1;33m(\u001b[0m\u001b[0mstr\u001b[0m\u001b[1;33m(\u001b[0m\u001b[0mrev_id\u001b[0m\u001b[1;33m)\u001b[0m\u001b[1;33m)\u001b[0m\u001b[1;33m\u001b[0m\u001b[1;33m\u001b[0m\u001b[0m\n\u001b[0;32m     14\u001b[0m             \u001b[0mpredictions_temp\u001b[0m\u001b[1;33m.\u001b[0m\u001b[0mappend\u001b[0m\u001b[1;33m(\u001b[0m\u001b[0mjson\u001b[0m\u001b[1;33m.\u001b[0m\u001b[0mloads\u001b[0m\u001b[1;33m(\u001b[0m\u001b[0mores_data\u001b[0m\u001b[1;33m)\u001b[0m\u001b[1;33m[\u001b[0m\u001b[1;34m'enwiki'\u001b[0m\u001b[1;33m]\u001b[0m\u001b[1;33m[\u001b[0m\u001b[1;34m'scores'\u001b[0m\u001b[1;33m]\u001b[0m\u001b[1;33m[\u001b[0m\u001b[0mstr\u001b[0m\u001b[1;33m(\u001b[0m\u001b[0mrev_id\u001b[0m\u001b[1;33m)\u001b[0m\u001b[1;33m]\u001b[0m\u001b[1;33m[\u001b[0m\u001b[1;34m'wp10'\u001b[0m\u001b[1;33m]\u001b[0m\u001b[1;33m[\u001b[0m\u001b[1;34m'score'\u001b[0m\u001b[1;33m]\u001b[0m\u001b[1;33m[\u001b[0m\u001b[1;34m'prediction'\u001b[0m\u001b[1;33m]\u001b[0m\u001b[1;33m)\u001b[0m\u001b[1;33m\u001b[0m\u001b[1;33m\u001b[0m\u001b[0m\n",
      "\u001b[1;32m~\\Anaconda3\\lib\\json\\__init__.py\u001b[0m in \u001b[0;36mloads\u001b[1;34m(s, encoding, cls, object_hook, parse_float, parse_int, parse_constant, object_pairs_hook, **kw)\u001b[0m\n\u001b[0;32m    346\u001b[0m             \u001b[0mparse_int\u001b[0m \u001b[1;32mis\u001b[0m \u001b[1;32mNone\u001b[0m \u001b[1;32mand\u001b[0m \u001b[0mparse_float\u001b[0m \u001b[1;32mis\u001b[0m \u001b[1;32mNone\u001b[0m \u001b[1;32mand\u001b[0m\u001b[1;33m\u001b[0m\u001b[1;33m\u001b[0m\u001b[0m\n\u001b[0;32m    347\u001b[0m             parse_constant is None and object_pairs_hook is None and not kw):\n\u001b[1;32m--> 348\u001b[1;33m         \u001b[1;32mreturn\u001b[0m \u001b[0m_default_decoder\u001b[0m\u001b[1;33m.\u001b[0m\u001b[0mdecode\u001b[0m\u001b[1;33m(\u001b[0m\u001b[0ms\u001b[0m\u001b[1;33m)\u001b[0m\u001b[1;33m\u001b[0m\u001b[1;33m\u001b[0m\u001b[0m\n\u001b[0m\u001b[0;32m    349\u001b[0m     \u001b[1;32mif\u001b[0m \u001b[0mcls\u001b[0m \u001b[1;32mis\u001b[0m \u001b[1;32mNone\u001b[0m\u001b[1;33m:\u001b[0m\u001b[1;33m\u001b[0m\u001b[1;33m\u001b[0m\u001b[0m\n\u001b[0;32m    350\u001b[0m         \u001b[0mcls\u001b[0m \u001b[1;33m=\u001b[0m \u001b[0mJSONDecoder\u001b[0m\u001b[1;33m\u001b[0m\u001b[1;33m\u001b[0m\u001b[0m\n",
      "\u001b[1;32m~\\Anaconda3\\lib\\json\\decoder.py\u001b[0m in \u001b[0;36mdecode\u001b[1;34m(self, s, _w)\u001b[0m\n\u001b[0;32m    335\u001b[0m \u001b[1;33m\u001b[0m\u001b[0m\n\u001b[0;32m    336\u001b[0m         \"\"\"\n\u001b[1;32m--> 337\u001b[1;33m         \u001b[0mobj\u001b[0m\u001b[1;33m,\u001b[0m \u001b[0mend\u001b[0m \u001b[1;33m=\u001b[0m \u001b[0mself\u001b[0m\u001b[1;33m.\u001b[0m\u001b[0mraw_decode\u001b[0m\u001b[1;33m(\u001b[0m\u001b[0ms\u001b[0m\u001b[1;33m,\u001b[0m \u001b[0midx\u001b[0m\u001b[1;33m=\u001b[0m\u001b[0m_w\u001b[0m\u001b[1;33m(\u001b[0m\u001b[0ms\u001b[0m\u001b[1;33m,\u001b[0m \u001b[1;36m0\u001b[0m\u001b[1;33m)\u001b[0m\u001b[1;33m.\u001b[0m\u001b[0mend\u001b[0m\u001b[1;33m(\u001b[0m\u001b[1;33m)\u001b[0m\u001b[1;33m)\u001b[0m\u001b[1;33m\u001b[0m\u001b[1;33m\u001b[0m\u001b[0m\n\u001b[0m\u001b[0;32m    338\u001b[0m         \u001b[0mend\u001b[0m \u001b[1;33m=\u001b[0m \u001b[0m_w\u001b[0m\u001b[1;33m(\u001b[0m\u001b[0ms\u001b[0m\u001b[1;33m,\u001b[0m \u001b[0mend\u001b[0m\u001b[1;33m)\u001b[0m\u001b[1;33m.\u001b[0m\u001b[0mend\u001b[0m\u001b[1;33m(\u001b[0m\u001b[1;33m)\u001b[0m\u001b[1;33m\u001b[0m\u001b[1;33m\u001b[0m\u001b[0m\n\u001b[0;32m    339\u001b[0m         \u001b[1;32mif\u001b[0m \u001b[0mend\u001b[0m \u001b[1;33m!=\u001b[0m \u001b[0mlen\u001b[0m\u001b[1;33m(\u001b[0m\u001b[0ms\u001b[0m\u001b[1;33m)\u001b[0m\u001b[1;33m:\u001b[0m\u001b[1;33m\u001b[0m\u001b[1;33m\u001b[0m\u001b[0m\n",
      "\u001b[1;32m~\\Anaconda3\\lib\\json\\decoder.py\u001b[0m in \u001b[0;36mraw_decode\u001b[1;34m(self, s, idx)\u001b[0m\n\u001b[0;32m    351\u001b[0m         \"\"\"\n\u001b[0;32m    352\u001b[0m         \u001b[1;32mtry\u001b[0m\u001b[1;33m:\u001b[0m\u001b[1;33m\u001b[0m\u001b[1;33m\u001b[0m\u001b[0m\n\u001b[1;32m--> 353\u001b[1;33m             \u001b[0mobj\u001b[0m\u001b[1;33m,\u001b[0m \u001b[0mend\u001b[0m \u001b[1;33m=\u001b[0m \u001b[0mself\u001b[0m\u001b[1;33m.\u001b[0m\u001b[0mscan_once\u001b[0m\u001b[1;33m(\u001b[0m\u001b[0ms\u001b[0m\u001b[1;33m,\u001b[0m \u001b[0midx\u001b[0m\u001b[1;33m)\u001b[0m\u001b[1;33m\u001b[0m\u001b[1;33m\u001b[0m\u001b[0m\n\u001b[0m\u001b[0;32m    354\u001b[0m         \u001b[1;32mexcept\u001b[0m \u001b[0mStopIteration\u001b[0m \u001b[1;32mas\u001b[0m \u001b[0merr\u001b[0m\u001b[1;33m:\u001b[0m\u001b[1;33m\u001b[0m\u001b[1;33m\u001b[0m\u001b[0m\n\u001b[0;32m    355\u001b[0m             \u001b[1;32mraise\u001b[0m \u001b[0mJSONDecodeError\u001b[0m\u001b[1;33m(\u001b[0m\u001b[1;34m\"Expecting value\"\u001b[0m\u001b[1;33m,\u001b[0m \u001b[0ms\u001b[0m\u001b[1;33m,\u001b[0m \u001b[0merr\u001b[0m\u001b[1;33m.\u001b[0m\u001b[0mvalue\u001b[0m\u001b[1;33m)\u001b[0m \u001b[1;32mfrom\u001b[0m \u001b[1;32mNone\u001b[0m\u001b[1;33m\u001b[0m\u001b[1;33m\u001b[0m\u001b[0m\n",
      "\u001b[1;31mKeyboardInterrupt\u001b[0m: "
     ]
    }
   ],
   "source": [
    "i = 0\n",
    "returned_score_ids = []\n",
    "predictions = pd.DataFrame([])\n",
    "for list_of_rev_ids in list_of_rev_id_lists:\n",
    "    i += 1\n",
    "    ores_data = get_ores_data(list_of_rev_ids, headers)\n",
    "    print('Completed the', i, 'th list of 100')\n",
    "    predictions_temp = []\n",
    "    returned_score_ids = []\n",
    "    for rev_id in list_of_rev_ids:\n",
    "        if str(rev_id) in json.loads(ores_data)['enwiki']['scores'].keys() and \\\n",
    "        'error' not in json.loads(ores_data)['enwiki']['scores'][str(rev_id)]['wp10'].keys():\n",
    "            returned_score_ids.append(str(rev_id))\n",
    "            predictions_temp.append(json.loads(ores_data)['enwiki']['scores'][str(rev_id)]['wp10']['score']['prediction'])\n",
    "\n",
    "    predictions = pd.concat([pd.DataFrame(zip(returned_score_ids, predictions_temp)), predictions], axis = 0)\n",
    "predictions.columns = ['rev_id', 'ORES_predicted class']\n",
    "\n",
    "predictions.to_csv('data/raw_data/predictions.csv')"
   ]
  },
  {
   "cell_type": "markdown",
   "metadata": {},
   "source": [
    "## Load Predictions from Saved File"
   ]
  },
  {
   "cell_type": "code",
   "execution_count": 586,
   "metadata": {},
   "outputs": [],
   "source": [
    "predictions = pd.read_csv('data/raw_data/predictions.csv', index_col = 0)"
   ]
  },
  {
   "cell_type": "markdown",
   "metadata": {},
   "source": [
    "## Brief Exploration of predictions Dataframe"
   ]
  },
  {
   "cell_type": "code",
   "execution_count": 587,
   "metadata": {},
   "outputs": [
    {
     "data": {
      "text/html": [
       "<div>\n",
       "<style scoped>\n",
       "    .dataframe tbody tr th:only-of-type {\n",
       "        vertical-align: middle;\n",
       "    }\n",
       "\n",
       "    .dataframe tbody tr th {\n",
       "        vertical-align: top;\n",
       "    }\n",
       "\n",
       "    .dataframe thead th {\n",
       "        text-align: right;\n",
       "    }\n",
       "</style>\n",
       "<table border=\"1\" class=\"dataframe\">\n",
       "  <thead>\n",
       "    <tr style=\"text-align: right;\">\n",
       "      <th></th>\n",
       "      <th>rev_id</th>\n",
       "      <th>ORES_predicted class</th>\n",
       "    </tr>\n",
       "  </thead>\n",
       "  <tbody>\n",
       "    <tr>\n",
       "      <th>0</th>\n",
       "      <td>807454176</td>\n",
       "      <td>C</td>\n",
       "    </tr>\n",
       "    <tr>\n",
       "      <th>1</th>\n",
       "      <td>807454234</td>\n",
       "      <td>Stub</td>\n",
       "    </tr>\n",
       "    <tr>\n",
       "      <th>2</th>\n",
       "      <td>807454631</td>\n",
       "      <td>Start</td>\n",
       "    </tr>\n",
       "    <tr>\n",
       "      <th>3</th>\n",
       "      <td>807454637</td>\n",
       "      <td>GA</td>\n",
       "    </tr>\n",
       "    <tr>\n",
       "      <th>4</th>\n",
       "      <td>807454951</td>\n",
       "      <td>Stub</td>\n",
       "    </tr>\n",
       "  </tbody>\n",
       "</table>\n",
       "</div>"
      ],
      "text/plain": [
       "      rev_id ORES_predicted class\n",
       "0  807454176                    C\n",
       "1  807454234                 Stub\n",
       "2  807454631                Start\n",
       "3  807454637                   GA\n",
       "4  807454951                 Stub"
      ]
     },
     "execution_count": 587,
     "metadata": {},
     "output_type": "execute_result"
    }
   ],
   "source": [
    "predictions.head()"
   ]
  },
  {
   "cell_type": "code",
   "execution_count": 588,
   "metadata": {},
   "outputs": [
    {
     "data": {
      "text/plain": [
       "array(['C', 'Stub', 'Start', 'GA', 'B', 'FA'], dtype=object)"
      ]
     },
     "execution_count": 588,
     "metadata": {},
     "output_type": "execute_result"
    }
   ],
   "source": [
    "predictions['ORES_predicted class'].unique()"
   ]
  },
  {
   "cell_type": "code",
   "execution_count": 589,
   "metadata": {},
   "outputs": [
    {
     "name": "stdout",
     "output_type": "stream",
     "text": [
      "<class 'pandas.core.frame.DataFrame'>\n",
      "Int64Index: 46546 entries, 0 to 96\n",
      "Data columns (total 2 columns):\n",
      "rev_id                  46546 non-null int64\n",
      "ORES_predicted class    46546 non-null object\n",
      "dtypes: int64(1), object(1)\n",
      "memory usage: 1.1+ MB\n"
     ]
    }
   ],
   "source": [
    "predictions.info()"
   ]
  },
  {
   "cell_type": "markdown",
   "metadata": {},
   "source": [
    "## Identify Which rev_ids Did Not Return Results"
   ]
  },
  {
   "cell_type": "code",
   "execution_count": 590,
   "metadata": {},
   "outputs": [],
   "source": [
    "# Flatten the list_of_rev_id_lists to a list_of_rev_ids\n",
    "list_of_rev_ids = []\n",
    "for sublist in list_of_rev_id_lists:\n",
    "    for rev_id in sublist:\n",
    "        list_of_rev_ids.append(rev_id)"
   ]
  },
  {
   "cell_type": "code",
   "execution_count": 591,
   "metadata": {
    "scrolled": true
   },
   "outputs": [
    {
     "data": {
      "text/plain": [
       "155"
      ]
     },
     "execution_count": 591,
     "metadata": {},
     "output_type": "execute_result"
    }
   ],
   "source": [
    "len(list_of_rev_ids) - predictions.shape[0]"
   ]
  },
  {
   "cell_type": "markdown",
   "metadata": {},
   "source": [
    "We will expect 155 rev_ids to not have returned data from the ORES API."
   ]
  },
  {
   "cell_type": "code",
   "execution_count": 592,
   "metadata": {},
   "outputs": [
    {
     "name": "stdout",
     "output_type": "stream",
     "text": [
      "10000\n",
      "20000\n",
      "30000\n",
      "40000\n"
     ]
    }
   ],
   "source": [
    "list_of_rev_ids_not_in_predictions = []\n",
    "i = 0\n",
    "list_predictions_rev_id = list(predictions.rev_id)\n",
    "for rev_id in list_of_rev_ids:\n",
    "    i +=1\n",
    "    if i%10000 == 0:\n",
    "        print(i)\n",
    "    if rev_id not in list_predictions_rev_id:\n",
    "        list_of_rev_ids_not_in_predictions.append(rev_id)"
   ]
  },
  {
   "cell_type": "code",
   "execution_count": 593,
   "metadata": {},
   "outputs": [
    {
     "data": {
      "text/plain": [
       "155"
      ]
     },
     "execution_count": 593,
     "metadata": {},
     "output_type": "execute_result"
    }
   ],
   "source": [
    "# Expected value 155\n",
    "len(list_of_rev_ids_not_in_predictions)"
   ]
  },
  {
   "cell_type": "markdown",
   "metadata": {},
   "source": [
    "## Save df of list_of_rev_ids_not_in_predictions to Cleaned_Data folder"
   ]
  },
  {
   "cell_type": "code",
   "execution_count": 594,
   "metadata": {},
   "outputs": [],
   "source": [
    "df_rev_ids_not_in_predictions = pd.DataFrame(list_of_rev_ids_not_in_predictions)\n",
    "df_rev_ids_not_in_predictions.columns = ['rev_id']\n",
    "df_rev_ids_not_in_predictions.to_csv('data/clean_data/rev_ids_not_in_predictions.csv')"
   ]
  },
  {
   "cell_type": "markdown",
   "metadata": {},
   "source": [
    "## Combining the datasets"
   ]
  },
  {
   "cell_type": "markdown",
   "metadata": {},
   "source": [
    "We will combine the datasets to make a final csv file which will be saved to the clean_data folder as wp_wpds_politicians_by_country.csv per the instructions.  first the wikipedia and predictions datasets are combined into a df_temp dataframe, and the rev_id columns are dropped (because these data are already contained in the index).  Then I merge the population data onto the dataframe to create the final dataset.  NA values are then removed from the dataset to create a dense file which is saved as wp_wpds_politicians_by_country.csv."
   ]
  },
  {
   "cell_type": "code",
   "execution_count": 595,
   "metadata": {},
   "outputs": [],
   "source": [
    "# Concat the predictions dataframe with the wikipedia dataframe on rev_id\n",
    "predictions.index = predictions.rev_id\n",
    "wikipedia_df.index = wikipedia_df.rev_id\n",
    "df_temp = pd.concat([wikipedia_df, predictions], axis = 1)\n",
    "df_temp.drop(['rev_id'], axis=1, inplace = True)\n",
    "df_temp.columns = ['Page', 'Country', 'ORES_predicted_class']"
   ]
  },
  {
   "cell_type": "code",
   "execution_count": 596,
   "metadata": {},
   "outputs": [
    {
     "data": {
      "text/html": [
       "<div>\n",
       "<style scoped>\n",
       "    .dataframe tbody tr th:only-of-type {\n",
       "        vertical-align: middle;\n",
       "    }\n",
       "\n",
       "    .dataframe tbody tr th {\n",
       "        vertical-align: top;\n",
       "    }\n",
       "\n",
       "    .dataframe thead th {\n",
       "        text-align: right;\n",
       "    }\n",
       "</style>\n",
       "<table border=\"1\" class=\"dataframe\">\n",
       "  <thead>\n",
       "    <tr style=\"text-align: right;\">\n",
       "      <th></th>\n",
       "      <th>Page</th>\n",
       "      <th>Country</th>\n",
       "      <th>ORES_predicted_class</th>\n",
       "    </tr>\n",
       "    <tr>\n",
       "      <th>rev_id</th>\n",
       "      <th></th>\n",
       "      <th></th>\n",
       "      <th></th>\n",
       "    </tr>\n",
       "  </thead>\n",
       "  <tbody>\n",
       "    <tr>\n",
       "      <th>355319463</th>\n",
       "      <td>Bir I of Kanem</td>\n",
       "      <td>Chad</td>\n",
       "      <td>Stub</td>\n",
       "    </tr>\n",
       "    <tr>\n",
       "      <th>393276188</th>\n",
       "      <td>Information Minister of the Palestinian Nation...</td>\n",
       "      <td>Palestinian Territory</td>\n",
       "      <td>Stub</td>\n",
       "    </tr>\n",
       "    <tr>\n",
       "      <th>393822005</th>\n",
       "      <td>Yos Por</td>\n",
       "      <td>Cambodia</td>\n",
       "      <td>Stub</td>\n",
       "    </tr>\n",
       "    <tr>\n",
       "      <th>395521877</th>\n",
       "      <td>Julius Gregr</td>\n",
       "      <td>Czech Republic</td>\n",
       "      <td>Stub</td>\n",
       "    </tr>\n",
       "    <tr>\n",
       "      <th>395526568</th>\n",
       "      <td>Edvard Gregr</td>\n",
       "      <td>Czech Republic</td>\n",
       "      <td>Stub</td>\n",
       "    </tr>\n",
       "  </tbody>\n",
       "</table>\n",
       "</div>"
      ],
      "text/plain": [
       "                                                        Page  \\\n",
       "rev_id                                                         \n",
       "355319463                                     Bir I of Kanem   \n",
       "393276188  Information Minister of the Palestinian Nation...   \n",
       "393822005                                            Yos Por   \n",
       "395521877                                       Julius Gregr   \n",
       "395526568                                       Edvard Gregr   \n",
       "\n",
       "                         Country ORES_predicted_class  \n",
       "rev_id                                                 \n",
       "355319463                   Chad                 Stub  \n",
       "393276188  Palestinian Territory                 Stub  \n",
       "393822005               Cambodia                 Stub  \n",
       "395521877         Czech Republic                 Stub  \n",
       "395526568         Czech Republic                 Stub  "
      ]
     },
     "execution_count": 596,
     "metadata": {},
     "output_type": "execute_result"
    }
   ],
   "source": [
    "df_temp.head()"
   ]
  },
  {
   "cell_type": "code",
   "execution_count": 597,
   "metadata": {},
   "outputs": [],
   "source": [
    "# Create final dataframe by merging pop_df on 'country'\n",
    "df = df_temp.merge(pop_df, how='left', on='Country')\n",
    "df = df.dropna()"
   ]
  },
  {
   "cell_type": "code",
   "execution_count": 599,
   "metadata": {},
   "outputs": [],
   "source": [
    "df.to_csv('data/clean_data/wp_wpds_politicians_by_country.csv')"
   ]
  },
  {
   "cell_type": "markdown",
   "metadata": {},
   "source": [
    "## Analysis"
   ]
  },
  {
   "cell_type": "markdown",
   "metadata": {},
   "source": [
    "In the next cell I calculate the average coverage of politicians as a percentage of the population and the quality of coverage, which is the percentage of pages which are rated as Featured Article (FA) or Good Article (GA) by the ORES classification API."
   ]
  },
  {
   "cell_type": "code",
   "execution_count": 495,
   "metadata": {},
   "outputs": [],
   "source": [
    "# Count the number of articles per country regardless of quality.\n",
    "num_pages = pd.DataFrame(df.groupby('Country').count()['Page'])\n",
    "num_pages.columns = ['count_pages']\n",
    "\n",
    "# Count the number of \"goog\" articles per country, i.e. articles of quality 'GA' or 'FA'.\n",
    "num_good_pages = pd.DataFrame(df[df['ORES_predicted_class'].isin(['GA', 'FA'])].groupby('Country').count()['Page'])\n",
    "num_good_pages.columns = ['count_good_pages']\n",
    "\n",
    "# Combine the populations of each country with the number of pages and number of good pages into one dataframe called df_count\n",
    "pop_df.index = pop_df.Country\n",
    "df_count = pd.concat([num_pages, num_good_pages, pop_df], sort=False, axis = 1)\n",
    "\n",
    "# Calculate the \"coverage\" and \"quality coverage\" as the percent of number of pages per population and percent of quality pages\n",
    "# per total pages respectively.\n",
    "df_count['Population mid-2018 (millions)'] = df_count['Population mid-2018 (millions)'].apply(lambda x: float(x.replace(',','')))\n",
    "df_count['coverage'] = 100*df_count['count_pages']/(1000000 * df_count['Population mid-2018 (millions)']) \n",
    "df_count['quality_coverage'] = 100*df_count['count_good_pages']/df_count['count_pages']"
   ]
  },
  {
   "cell_type": "markdown",
   "metadata": {},
   "source": [
    "## Results"
   ]
  },
  {
   "cell_type": "markdown",
   "metadata": {},
   "source": [
    "### Top 10 Countries by Coverage"
   ]
  },
  {
   "cell_type": "code",
   "execution_count": 501,
   "metadata": {},
   "outputs": [
    {
     "data": {
      "text/html": [
       "<div>\n",
       "<style scoped>\n",
       "    .dataframe tbody tr th:only-of-type {\n",
       "        vertical-align: middle;\n",
       "    }\n",
       "\n",
       "    .dataframe tbody tr th {\n",
       "        vertical-align: top;\n",
       "    }\n",
       "\n",
       "    .dataframe thead th {\n",
       "        text-align: right;\n",
       "    }\n",
       "</style>\n",
       "<table border=\"1\" class=\"dataframe\">\n",
       "  <thead>\n",
       "    <tr style=\"text-align: right;\">\n",
       "      <th></th>\n",
       "      <th>coverage</th>\n",
       "      <th>Population mid-2018 (millions)</th>\n",
       "    </tr>\n",
       "  </thead>\n",
       "  <tbody>\n",
       "    <tr>\n",
       "      <th>Tuvalu</th>\n",
       "      <td>0.540000</td>\n",
       "      <td>0.01</td>\n",
       "    </tr>\n",
       "    <tr>\n",
       "      <th>Nauru</th>\n",
       "      <td>0.520000</td>\n",
       "      <td>0.01</td>\n",
       "    </tr>\n",
       "    <tr>\n",
       "      <th>San Marino</th>\n",
       "      <td>0.270000</td>\n",
       "      <td>0.03</td>\n",
       "    </tr>\n",
       "    <tr>\n",
       "      <th>Monaco</th>\n",
       "      <td>0.100000</td>\n",
       "      <td>0.04</td>\n",
       "    </tr>\n",
       "    <tr>\n",
       "      <th>Liechtenstein</th>\n",
       "      <td>0.070000</td>\n",
       "      <td>0.04</td>\n",
       "    </tr>\n",
       "    <tr>\n",
       "      <th>Tonga</th>\n",
       "      <td>0.063000</td>\n",
       "      <td>0.10</td>\n",
       "    </tr>\n",
       "    <tr>\n",
       "      <th>Marshall Islands</th>\n",
       "      <td>0.061667</td>\n",
       "      <td>0.06</td>\n",
       "    </tr>\n",
       "    <tr>\n",
       "      <th>Iceland</th>\n",
       "      <td>0.050250</td>\n",
       "      <td>0.40</td>\n",
       "    </tr>\n",
       "    <tr>\n",
       "      <th>Andorra</th>\n",
       "      <td>0.042500</td>\n",
       "      <td>0.08</td>\n",
       "    </tr>\n",
       "    <tr>\n",
       "      <th>Grenada</th>\n",
       "      <td>0.036000</td>\n",
       "      <td>0.10</td>\n",
       "    </tr>\n",
       "  </tbody>\n",
       "</table>\n",
       "</div>"
      ],
      "text/plain": [
       "                  coverage  Population mid-2018 (millions)\n",
       "Tuvalu            0.540000                            0.01\n",
       "Nauru             0.520000                            0.01\n",
       "San Marino        0.270000                            0.03\n",
       "Monaco            0.100000                            0.04\n",
       "Liechtenstein     0.070000                            0.04\n",
       "Tonga             0.063000                            0.10\n",
       "Marshall Islands  0.061667                            0.06\n",
       "Iceland           0.050250                            0.40\n",
       "Andorra           0.042500                            0.08\n",
       "Grenada           0.036000                            0.10"
      ]
     },
     "execution_count": 501,
     "metadata": {},
     "output_type": "execute_result"
    }
   ],
   "source": [
    "df_count.sort_values(['coverage'], ascending=False)[['coverage', 'Population mid-2018 (millions)']][0:10]"
   ]
  },
  {
   "cell_type": "markdown",
   "metadata": {},
   "source": [
    "### Bottom 10 Countries by Coverage"
   ]
  },
  {
   "cell_type": "code",
   "execution_count": 502,
   "metadata": {},
   "outputs": [
    {
     "data": {
      "text/html": [
       "<div>\n",
       "<style scoped>\n",
       "    .dataframe tbody tr th:only-of-type {\n",
       "        vertical-align: middle;\n",
       "    }\n",
       "\n",
       "    .dataframe tbody tr th {\n",
       "        vertical-align: top;\n",
       "    }\n",
       "\n",
       "    .dataframe thead th {\n",
       "        text-align: right;\n",
       "    }\n",
       "</style>\n",
       "<table border=\"1\" class=\"dataframe\">\n",
       "  <thead>\n",
       "    <tr style=\"text-align: right;\">\n",
       "      <th></th>\n",
       "      <th>coverage</th>\n",
       "      <th>Population mid-2018 (millions)</th>\n",
       "    </tr>\n",
       "  </thead>\n",
       "  <tbody>\n",
       "    <tr>\n",
       "      <th>India</th>\n",
       "      <td>0.000071</td>\n",
       "      <td>1371.3</td>\n",
       "    </tr>\n",
       "    <tr>\n",
       "      <th>Indonesia</th>\n",
       "      <td>0.000079</td>\n",
       "      <td>265.2</td>\n",
       "    </tr>\n",
       "    <tr>\n",
       "      <th>China</th>\n",
       "      <td>0.000081</td>\n",
       "      <td>1393.8</td>\n",
       "    </tr>\n",
       "    <tr>\n",
       "      <th>Uzbekistan</th>\n",
       "      <td>0.000085</td>\n",
       "      <td>32.9</td>\n",
       "    </tr>\n",
       "    <tr>\n",
       "      <th>Ethiopia</th>\n",
       "      <td>0.000094</td>\n",
       "      <td>107.5</td>\n",
       "    </tr>\n",
       "    <tr>\n",
       "      <th>Korea, North</th>\n",
       "      <td>0.000141</td>\n",
       "      <td>25.6</td>\n",
       "    </tr>\n",
       "    <tr>\n",
       "      <th>Zambia</th>\n",
       "      <td>0.000141</td>\n",
       "      <td>17.7</td>\n",
       "    </tr>\n",
       "    <tr>\n",
       "      <th>Thailand</th>\n",
       "      <td>0.000169</td>\n",
       "      <td>66.2</td>\n",
       "    </tr>\n",
       "    <tr>\n",
       "      <th>Mozambique</th>\n",
       "      <td>0.000190</td>\n",
       "      <td>30.5</td>\n",
       "    </tr>\n",
       "    <tr>\n",
       "      <th>Bangladesh</th>\n",
       "      <td>0.000192</td>\n",
       "      <td>166.4</td>\n",
       "    </tr>\n",
       "  </tbody>\n",
       "</table>\n",
       "</div>"
      ],
      "text/plain": [
       "              coverage  Population mid-2018 (millions)\n",
       "India         0.000071                          1371.3\n",
       "Indonesia     0.000079                           265.2\n",
       "China         0.000081                          1393.8\n",
       "Uzbekistan    0.000085                            32.9\n",
       "Ethiopia      0.000094                           107.5\n",
       "Korea, North  0.000141                            25.6\n",
       "Zambia        0.000141                            17.7\n",
       "Thailand      0.000169                            66.2\n",
       "Mozambique    0.000190                            30.5\n",
       "Bangladesh    0.000192                           166.4"
      ]
     },
     "execution_count": 502,
     "metadata": {},
     "output_type": "execute_result"
    }
   ],
   "source": [
    "df_count.sort_values(['coverage'], ascending=True)[['coverage', 'Population mid-2018 (millions)']][0:10]"
   ]
  },
  {
   "cell_type": "markdown",
   "metadata": {},
   "source": [
    "### Top 10 Countries by Relative Quality"
   ]
  },
  {
   "cell_type": "code",
   "execution_count": 503,
   "metadata": {},
   "outputs": [
    {
     "data": {
      "text/html": [
       "<div>\n",
       "<style scoped>\n",
       "    .dataframe tbody tr th:only-of-type {\n",
       "        vertical-align: middle;\n",
       "    }\n",
       "\n",
       "    .dataframe tbody tr th {\n",
       "        vertical-align: top;\n",
       "    }\n",
       "\n",
       "    .dataframe thead th {\n",
       "        text-align: right;\n",
       "    }\n",
       "</style>\n",
       "<table border=\"1\" class=\"dataframe\">\n",
       "  <thead>\n",
       "    <tr style=\"text-align: right;\">\n",
       "      <th></th>\n",
       "      <th>quality_coverage</th>\n",
       "      <th>Population mid-2018 (millions)</th>\n",
       "    </tr>\n",
       "  </thead>\n",
       "  <tbody>\n",
       "    <tr>\n",
       "      <th>Korea, North</th>\n",
       "      <td>19.444444</td>\n",
       "      <td>25.60</td>\n",
       "    </tr>\n",
       "    <tr>\n",
       "      <th>Saudi Arabia</th>\n",
       "      <td>12.711864</td>\n",
       "      <td>33.40</td>\n",
       "    </tr>\n",
       "    <tr>\n",
       "      <th>Mauritania</th>\n",
       "      <td>12.500000</td>\n",
       "      <td>4.50</td>\n",
       "    </tr>\n",
       "    <tr>\n",
       "      <th>Central African Republic</th>\n",
       "      <td>12.121212</td>\n",
       "      <td>4.70</td>\n",
       "    </tr>\n",
       "    <tr>\n",
       "      <th>Romania</th>\n",
       "      <td>11.370262</td>\n",
       "      <td>19.50</td>\n",
       "    </tr>\n",
       "    <tr>\n",
       "      <th>Tuvalu</th>\n",
       "      <td>9.259259</td>\n",
       "      <td>0.01</td>\n",
       "    </tr>\n",
       "    <tr>\n",
       "      <th>Bhutan</th>\n",
       "      <td>9.090909</td>\n",
       "      <td>0.80</td>\n",
       "    </tr>\n",
       "    <tr>\n",
       "      <th>Dominica</th>\n",
       "      <td>8.333333</td>\n",
       "      <td>0.07</td>\n",
       "    </tr>\n",
       "    <tr>\n",
       "      <th>Syria</th>\n",
       "      <td>7.812500</td>\n",
       "      <td>18.30</td>\n",
       "    </tr>\n",
       "    <tr>\n",
       "      <th>Benin</th>\n",
       "      <td>7.692308</td>\n",
       "      <td>11.50</td>\n",
       "    </tr>\n",
       "  </tbody>\n",
       "</table>\n",
       "</div>"
      ],
      "text/plain": [
       "                          quality_coverage  Population mid-2018 (millions)\n",
       "Korea, North                     19.444444                           25.60\n",
       "Saudi Arabia                     12.711864                           33.40\n",
       "Mauritania                       12.500000                            4.50\n",
       "Central African Republic         12.121212                            4.70\n",
       "Romania                          11.370262                           19.50\n",
       "Tuvalu                            9.259259                            0.01\n",
       "Bhutan                            9.090909                            0.80\n",
       "Dominica                          8.333333                            0.07\n",
       "Syria                             7.812500                           18.30\n",
       "Benin                             7.692308                           11.50"
      ]
     },
     "execution_count": 503,
     "metadata": {},
     "output_type": "execute_result"
    }
   ],
   "source": [
    "df_count.sort_values(['quality_coverage'], ascending=False)[['quality_coverage', 'Population mid-2018 (millions)']][0:10]"
   ]
  },
  {
   "cell_type": "markdown",
   "metadata": {},
   "source": [
    "### Bottom 10 countries by Relative Quality"
   ]
  },
  {
   "cell_type": "code",
   "execution_count": 504,
   "metadata": {},
   "outputs": [
    {
     "data": {
      "text/html": [
       "<div>\n",
       "<style scoped>\n",
       "    .dataframe tbody tr th:only-of-type {\n",
       "        vertical-align: middle;\n",
       "    }\n",
       "\n",
       "    .dataframe tbody tr th {\n",
       "        vertical-align: top;\n",
       "    }\n",
       "\n",
       "    .dataframe thead th {\n",
       "        text-align: right;\n",
       "    }\n",
       "</style>\n",
       "<table border=\"1\" class=\"dataframe\">\n",
       "  <thead>\n",
       "    <tr style=\"text-align: right;\">\n",
       "      <th></th>\n",
       "      <th>quality_coverage</th>\n",
       "      <th>Population mid-2018 (millions)</th>\n",
       "    </tr>\n",
       "  </thead>\n",
       "  <tbody>\n",
       "    <tr>\n",
       "      <th>Belgium</th>\n",
       "      <td>0.192308</td>\n",
       "      <td>11.4</td>\n",
       "    </tr>\n",
       "    <tr>\n",
       "      <th>Tanzania</th>\n",
       "      <td>0.246914</td>\n",
       "      <td>59.1</td>\n",
       "    </tr>\n",
       "    <tr>\n",
       "      <th>Switzerland</th>\n",
       "      <td>0.248756</td>\n",
       "      <td>8.5</td>\n",
       "    </tr>\n",
       "    <tr>\n",
       "      <th>Nepal</th>\n",
       "      <td>0.280112</td>\n",
       "      <td>29.7</td>\n",
       "    </tr>\n",
       "    <tr>\n",
       "      <th>Peru</th>\n",
       "      <td>0.285714</td>\n",
       "      <td>32.2</td>\n",
       "    </tr>\n",
       "    <tr>\n",
       "      <th>Nigeria</th>\n",
       "      <td>0.295421</td>\n",
       "      <td>195.9</td>\n",
       "    </tr>\n",
       "    <tr>\n",
       "      <th>Colombia</th>\n",
       "      <td>0.350877</td>\n",
       "      <td>49.8</td>\n",
       "    </tr>\n",
       "    <tr>\n",
       "      <th>Lithuania</th>\n",
       "      <td>0.409836</td>\n",
       "      <td>2.8</td>\n",
       "    </tr>\n",
       "    <tr>\n",
       "      <th>Fiji</th>\n",
       "      <td>0.507614</td>\n",
       "      <td>0.9</td>\n",
       "    </tr>\n",
       "    <tr>\n",
       "      <th>Azerbaijan</th>\n",
       "      <td>0.558659</td>\n",
       "      <td>9.9</td>\n",
       "    </tr>\n",
       "  </tbody>\n",
       "</table>\n",
       "</div>"
      ],
      "text/plain": [
       "             quality_coverage  Population mid-2018 (millions)\n",
       "Belgium              0.192308                            11.4\n",
       "Tanzania             0.246914                            59.1\n",
       "Switzerland          0.248756                             8.5\n",
       "Nepal                0.280112                            29.7\n",
       "Peru                 0.285714                            32.2\n",
       "Nigeria              0.295421                           195.9\n",
       "Colombia             0.350877                            49.8\n",
       "Lithuania            0.409836                             2.8\n",
       "Fiji                 0.507614                             0.9\n",
       "Azerbaijan           0.558659                             9.9"
      ]
     },
     "execution_count": 504,
     "metadata": {},
     "output_type": "execute_result"
    }
   ],
   "source": [
    "df_count.sort_values(['quality_coverage'], ascending=True)[['quality_coverage', 'Population mid-2018 (millions)']][0:10]"
   ]
  },
  {
   "cell_type": "markdown",
   "metadata": {},
   "source": [
    "### Geographic Regions by Coverage"
   ]
  },
  {
   "cell_type": "code",
   "execution_count": 604,
   "metadata": {},
   "outputs": [
    {
     "data": {
      "text/html": [
       "<div>\n",
       "<style scoped>\n",
       "    .dataframe tbody tr th:only-of-type {\n",
       "        vertical-align: middle;\n",
       "    }\n",
       "\n",
       "    .dataframe tbody tr th {\n",
       "        vertical-align: top;\n",
       "    }\n",
       "\n",
       "    .dataframe thead th {\n",
       "        text-align: right;\n",
       "    }\n",
       "</style>\n",
       "<table border=\"1\" class=\"dataframe\">\n",
       "  <thead>\n",
       "    <tr style=\"text-align: right;\">\n",
       "      <th></th>\n",
       "      <th>Coverage (%)</th>\n",
       "    </tr>\n",
       "  </thead>\n",
       "  <tbody>\n",
       "    <tr>\n",
       "      <th>OCEANIA</th>\n",
       "      <td>0.007629</td>\n",
       "    </tr>\n",
       "    <tr>\n",
       "      <th>EUROPE</th>\n",
       "      <td>0.002127</td>\n",
       "    </tr>\n",
       "    <tr>\n",
       "      <th>LATIN AMERICA AND THE CARIBBEAN</th>\n",
       "      <td>0.000796</td>\n",
       "    </tr>\n",
       "    <tr>\n",
       "      <th>AFRICA</th>\n",
       "      <td>0.000534</td>\n",
       "    </tr>\n",
       "    <tr>\n",
       "      <th>NORTHERN AMERICA</th>\n",
       "      <td>0.000526</td>\n",
       "    </tr>\n",
       "    <tr>\n",
       "      <th>ASIA</th>\n",
       "      <td>0.000254</td>\n",
       "    </tr>\n",
       "  </tbody>\n",
       "</table>\n",
       "</div>"
      ],
      "text/plain": [
       "                                 Coverage (%)\n",
       "OCEANIA                              0.007629\n",
       "EUROPE                               0.002127\n",
       "LATIN AMERICA AND THE CARIBBEAN      0.000796\n",
       "AFRICA                               0.000534\n",
       "NORTHERN AMERICA                     0.000526\n",
       "ASIA                                 0.000254"
      ]
     },
     "execution_count": 604,
     "metadata": {},
     "output_type": "execute_result"
    }
   ],
   "source": [
    "region_df.index = region_df['Geography']\n",
    "region_by_coverage_df = pd.DataFrame([100*df_count.groupby('Region').sum()['count_pages']/(1000000*region_df['Population mid-2018 (millions)'].apply(lambda x: int(x.replace(',',''))))]).T.sort_values(0, ascending=False)\n",
    "region_by_coverage_df.columns = ['Coverage (%)']\n",
    "region_by_coverage_df"
   ]
  },
  {
   "cell_type": "markdown",
   "metadata": {},
   "source": [
    "### Geographic Regions by Quality of Coverage"
   ]
  },
  {
   "cell_type": "code",
   "execution_count": 606,
   "metadata": {},
   "outputs": [
    {
     "data": {
      "text/html": [
       "<div>\n",
       "<style scoped>\n",
       "    .dataframe tbody tr th:only-of-type {\n",
       "        vertical-align: middle;\n",
       "    }\n",
       "\n",
       "    .dataframe tbody tr th {\n",
       "        vertical-align: top;\n",
       "    }\n",
       "\n",
       "    .dataframe thead th {\n",
       "        text-align: right;\n",
       "    }\n",
       "</style>\n",
       "<table border=\"1\" class=\"dataframe\">\n",
       "  <thead>\n",
       "    <tr style=\"text-align: right;\">\n",
       "      <th></th>\n",
       "      <th>Good Coverage (%)</th>\n",
       "    </tr>\n",
       "    <tr>\n",
       "      <th>Region</th>\n",
       "      <th></th>\n",
       "    </tr>\n",
       "  </thead>\n",
       "  <tbody>\n",
       "    <tr>\n",
       "      <th>NORTHERN AMERICA</th>\n",
       "      <td>5.153566</td>\n",
       "    </tr>\n",
       "    <tr>\n",
       "      <th>ASIA</th>\n",
       "      <td>2.688405</td>\n",
       "    </tr>\n",
       "    <tr>\n",
       "      <th>OCEANIA</th>\n",
       "      <td>2.109974</td>\n",
       "    </tr>\n",
       "    <tr>\n",
       "      <th>EUROPE</th>\n",
       "      <td>2.029753</td>\n",
       "    </tr>\n",
       "    <tr>\n",
       "      <th>AFRICA</th>\n",
       "      <td>1.824551</td>\n",
       "    </tr>\n",
       "    <tr>\n",
       "      <th>LATIN AMERICA AND THE CARIBBEAN</th>\n",
       "      <td>1.334881</td>\n",
       "    </tr>\n",
       "  </tbody>\n",
       "</table>\n",
       "</div>"
      ],
      "text/plain": [
       "                                 Good Coverage (%)\n",
       "Region                                            \n",
       "NORTHERN AMERICA                          5.153566\n",
       "ASIA                                      2.688405\n",
       "OCEANIA                                   2.109974\n",
       "EUROPE                                    2.029753\n",
       "AFRICA                                    1.824551\n",
       "LATIN AMERICA AND THE CARIBBEAN           1.334881"
      ]
     },
     "execution_count": 606,
     "metadata": {},
     "output_type": "execute_result"
    }
   ],
   "source": [
    "region_by_good_coverage_df = pd.DataFrame([100*df_count.groupby('Region').sum()['count_good_pages']/df_count.groupby('Region').sum()['count_pages']]).T\n",
    "region_by_good_coverage_df.columns = ['Good Coverage (%)']\n",
    "region_by_good_coverage_df.sort_values('Good Coverage (%)', ascending=False)"
   ]
  },
  {
   "cell_type": "markdown",
   "metadata": {},
   "source": [
    "## Discussion"
   ]
  },
  {
   "cell_type": "markdown",
   "metadata": {},
   "source": [
    "I expected that English Wikipedia would be heavily biased towards coverage of North America and European politicians, and would have less coverage of the other regions.  This is partially because I expected that the database would be biased toards covering English-speaking countries, and partially because I expected there to be more coverage of liberal western democracies that encourage free speech and political discussion.  This was partially bourne out by the data.  North America dominates the quality of coverage by region table (5.15%, see last table in results section) with double that of the next highest coverage (Asia at 2.69%).  However, unexpectedly, Europe is not in second place.  \n",
    "\n",
    "I did expect that population would dominate political coverage however, with small (in population) countries dominating the \"top 10 countries by coverage\" list, and large countries (China, Indonesia, India) dominating the \"bottom 10 countries by coverage\" list.  Interestingly North Korea appears both in the bottom 10 countries in terms of absolute coverage, and in the top 10 countries in terms of quality coverage.  This means that not many politicians have pages compared to population of North Korea, but of those politicians that are covered, they have relatively extensive pages.\n",
    "\n",
    "I think that exploring only the English Wikipedia results in considerable bias in the data.  We are not seeing the data as people in the country might see it if they speak a language other than English.  These data are applicable to political coverage of the world in English-speaking nations, but it would be better to consider political coverage in the language native to the country being investigated.  This would take considerably more effort in terms of classification and coding, however.  I would be interested in seeing these same results but using just length of articles (as a proxy for quality) and normalized by information density of various languages.  However this may introduce issues in nations where multiple languages are spoken by large sections of the population."
   ]
  },
  {
   "cell_type": "markdown",
   "metadata": {},
   "source": [
    "### References"
   ]
  },
  {
   "cell_type": "markdown",
   "metadata": {},
   "source": [
    "[1] Morgan, Johnathan T. (2019, October 3)  Human Centered Data Science (Fall 2019)/Assignments.  Retrieved from: https://wiki.communitydata.science/Human_Centered_Data_Science_(Fall_2019)/Assignments, accessed on October 13, 2019.\n",
    "\n",
    "[2] Morgan, Johnathan T. (2017, October 28) Bias on Wikipedia - Making ORES requests jtmorgan/data-512-a2.  Retrieved from: https://github.com/jtmorgan/data-512-a2/blob/master/NEW_hcds-a2-bias_demo.ipynb, accessed October 16, 2019."
   ]
  },
  {
   "cell_type": "code",
   "execution_count": null,
   "metadata": {},
   "outputs": [],
   "source": []
  }
 ],
 "metadata": {
  "kernelspec": {
   "display_name": "Python 3",
   "language": "python",
   "name": "python3"
  },
  "language_info": {
   "codemirror_mode": {
    "name": "ipython",
    "version": 3
   },
   "file_extension": ".py",
   "mimetype": "text/x-python",
   "name": "python",
   "nbconvert_exporter": "python",
   "pygments_lexer": "ipython3",
   "version": "3.7.3"
  }
 },
 "nbformat": 4,
 "nbformat_minor": 2
}
